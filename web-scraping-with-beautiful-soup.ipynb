{
 "cells": [
  {
   "cell_type": "markdown",
   "source": [
    "# Make some choclate soup"
   ],
   "metadata": {}
  },
  {
   "cell_type": "markdown",
   "source": [
    "In this project I will use Beautiful Soup to scrape a website full of ratings of different choclates from different countries. The ratings are on a scale from 1 - 5, where 1 is the worst score you can get. \n",
    "\n",
    "These are the questions I will be answering: \n",
    "- Where are the best cocoa beans grown? \n",
    "- Which countries produce the highest-rated bars? \n",
    "- What’s the relationship between cocoa solids percentage and rating?\n",
    "\n"
   ],
   "metadata": {}
  },
  {
   "cell_type": "code",
   "execution_count": 62,
   "source": [
    "import seaborn as sns\n",
    "from bs4 import BeautifulSoup\n",
    "import requests\n",
    "import pandas as pd\n",
    "import matplotlib.pyplot as plt\n",
    "import numpy as np"
   ],
   "outputs": [],
   "metadata": {}
  },
  {
   "cell_type": "markdown",
   "source": [
    "# Scraping the website"
   ],
   "metadata": {}
  },
  {
   "cell_type": "code",
   "execution_count": 63,
   "source": [
    "webpage_response = requests.get('https://content.codecademy.com/courses/beautifulsoup/cacao/index.html')\n",
    "webpage = webpage_response.content\n",
    "soup = BeautifulSoup(webpage, \"html.parser\")"
   ],
   "outputs": [],
   "metadata": {}
  },
  {
   "cell_type": "code",
   "execution_count": 135,
   "source": [
    "#print(soup.prettify())"
   ],
   "outputs": [],
   "metadata": {}
  },
  {
   "cell_type": "markdown",
   "source": [
    "## Creating a dataframe "
   ],
   "metadata": {}
  },
  {
   "cell_type": "code",
   "execution_count": 65,
   "source": [
    "soup_ratings = soup.find_all(attrs={\"class\": \"Rating\"})\n",
    "ratings = [float(soup_rating.get_text()) for soup_rating in soup_ratings[1:]]"
   ],
   "outputs": [],
   "metadata": {}
  },
  {
   "cell_type": "code",
   "execution_count": 127,
   "source": [
    "plt.subplots(figsize=(15, 9))\n",
    "plt.hist(x=ratings, color='lightblue')\n",
    "\n",
    "plt.title('Observations of ratings', size = 20)\n",
    "# Horizontal axis Label\n",
    "plt.xlabel('Ratings', size = 17)\n",
    "# Vertical axis Label\n",
    "plt.ylabel('Observations', size = 17)\n",
    "\n",
    "plt.show()"
   ],
   "outputs": [
    {
     "output_type": "display_data",
     "data": {
      "text/plain": [
       "<Figure size 1080x648 with 1 Axes>"
      ],
      "image/png": "[encoded data removed]"
     },
     "metadata": {}
    }
   ],
   "metadata": {}
  },
  {
   "cell_type": "code",
   "execution_count": 67,
   "source": [
    "soup_companies = soup.select(\".Company\")\n",
    "companies = [soup_company.get_text() for soup_company in soup_companies[1:]]"
   ],
   "outputs": [],
   "metadata": {}
  },
  {
   "cell_type": "code",
   "execution_count": 68,
   "source": [
    "soup_percent = soup.select(\".CocoaPercent\")\n",
    "percents = [float(percent.get_text().strip('%')) for percent in soup_percent[1:]]"
   ],
   "outputs": [],
   "metadata": {}
  },
  {
   "cell_type": "code",
   "execution_count": 107,
   "source": [
    "soup_origin = soup.select(\".Origin\")\n",
    "origins = [origin.get_text() for origin in soup_origin[1:]]"
   ],
   "outputs": [],
   "metadata": {}
  },
  {
   "cell_type": "code",
   "execution_count": 130,
   "source": [
    "soup_location = soup.select(\".CompanyLocation\")\n",
    "locations = [location.get_text() for location in soup_location[1:]]"
   ],
   "outputs": [],
   "metadata": {}
  },
  {
   "cell_type": "code",
   "execution_count": 133,
   "source": [
    "soup_bean_origin = soup.select(\".BroadBeanOrigin\")\n",
    "bean_origin = [origin.get_text() for origin in soup_bean_origin[1:]]"
   ],
   "outputs": [],
   "metadata": {}
  },
  {
   "cell_type": "code",
   "execution_count": 139,
   "source": [
    "d = {'Companies':companies, 'CompanyLocation':locations, 'Ratings':ratings, 'CocoaPercentage': percents, 'Origin':origins, 'BroadBeanOrigin': bean_origin}\n",
    "df = pd.DataFrame.from_dict(d)\n",
    "df.head()\n"
   ],
   "outputs": [
    {
     "output_type": "execute_result",
     "data": {
      "text/plain": [
       "  Companies CompanyLocation  Ratings  CocoaPercentage       Origin  \\\n",
       "0  A. Morin          France     3.75             63.0  Agua Grande   \n",
       "1  A. Morin          France     2.75             70.0        Kpime   \n",
       "2  A. Morin          France     3.00             70.0       Atsane   \n",
       "3  A. Morin          France     3.50             70.0        Akata   \n",
       "4  A. Morin          France     3.50             70.0       Quilla   \n",
       "\n",
       "  BroadBeanOrigin  \n",
       "0        Sao Tome  \n",
       "1            Togo  \n",
       "2            Togo  \n",
       "3            Togo  \n",
       "4            Peru  "
      ],
      "text/html": [
       "<div>\n",
       "<style scoped>\n",
       "    .dataframe tbody tr th:only-of-type {\n",
       "        vertical-align: middle;\n",
       "    }\n",
       "\n",
       "    .dataframe tbody tr th {\n",
       "        vertical-align: top;\n",
       "    }\n",
       "\n",
       "    .dataframe thead th {\n",
       "        text-align: right;\n",
       "    }\n",
       "</style>\n",
       "<table border=\"1\" class=\"dataframe\">\n",
       "  <thead>\n",
       "    <tr style=\"text-align: right;\">\n",
       "      <th></th>\n",
       "      <th>Companies</th>\n",
       "      <th>CompanyLocation</th>\n",
       "      <th>Ratings</th>\n",
       "      <th>CocoaPercentage</th>\n",
       "      <th>Origin</th>\n",
       "      <th>BroadBeanOrigin</th>\n",
       "    </tr>\n",
       "  </thead>\n",
       "  <tbody>\n",
       "    <tr>\n",
       "      <th>0</th>\n",
       "      <td>A. Morin</td>\n",
       "      <td>France</td>\n",
       "      <td>3.75</td>\n",
       "      <td>63.0</td>\n",
       "      <td>Agua Grande</td>\n",
       "      <td>Sao Tome</td>\n",
       "    </tr>\n",
       "    <tr>\n",
       "      <th>1</th>\n",
       "      <td>A. Morin</td>\n",
       "      <td>France</td>\n",
       "      <td>2.75</td>\n",
       "      <td>70.0</td>\n",
       "      <td>Kpime</td>\n",
       "      <td>Togo</td>\n",
       "    </tr>\n",
       "    <tr>\n",
       "      <th>2</th>\n",
       "      <td>A. Morin</td>\n",
       "      <td>France</td>\n",
       "      <td>3.00</td>\n",
       "      <td>70.0</td>\n",
       "      <td>Atsane</td>\n",
       "      <td>Togo</td>\n",
       "    </tr>\n",
       "    <tr>\n",
       "      <th>3</th>\n",
       "      <td>A. Morin</td>\n",
       "      <td>France</td>\n",
       "      <td>3.50</td>\n",
       "      <td>70.0</td>\n",
       "      <td>Akata</td>\n",
       "      <td>Togo</td>\n",
       "    </tr>\n",
       "    <tr>\n",
       "      <th>4</th>\n",
       "      <td>A. Morin</td>\n",
       "      <td>France</td>\n",
       "      <td>3.50</td>\n",
       "      <td>70.0</td>\n",
       "      <td>Quilla</td>\n",
       "      <td>Peru</td>\n",
       "    </tr>\n",
       "  </tbody>\n",
       "</table>\n",
       "</div>"
      ]
     },
     "metadata": {},
     "execution_count": 139
    }
   ],
   "metadata": {}
  },
  {
   "cell_type": "markdown",
   "source": [
    "# Analyzing the data"
   ],
   "metadata": {}
  },
  {
   "cell_type": "markdown",
   "source": [
    "## The relationship between cocoa solids percentage and rating"
   ],
   "metadata": {}
  },
  {
   "cell_type": "code",
   "execution_count": 1,
   "source": [
    "# plot bg\n",
    "sns.set_style(\"whitegrid\")\n",
    "\n",
    "#Size of the plot\n",
    "x = df['CocoaPercentage']\n",
    "y = df['Ratings']\n",
    "cmap = sns.cubehelix_palette(as_cmap=True)\n",
    "\n",
    "f, ax = plt.subplots(figsize=(15, 9))\n",
    "points = ax.scatter(x, y, c=y, s=50, cmap=cmap)\n",
    "# Title of the graph\n",
    "plt.title('Scatterplot of the ratings vs. the cocoa percentage', size = 20)\n",
    "\n",
    "# Horizontal axis Label\n",
    "plt.xlabel('Cocoa percentage', size = 17)\n",
    "# Vertical axis Label\n",
    "plt.ylabel('Ratings', size = 17)"
   ],
   "outputs": [
    {
     "output_type": "error",
     "ename": "NameError",
     "evalue": "name 'sns' is not defined",
     "traceback": [
      "\u001b[0;31m---------------------------------------------------------------------------\u001b[0m",
      "\u001b[0;31mNameError\u001b[0m                                 Traceback (most recent call last)",
      "\u001b[0;32m/var/folders/by/5zptl1p16331q3jy8j9sgxsh0000gn/T/ipykernel_44470/1835551018.py\u001b[0m in \u001b[0;36m<module>\u001b[0;34m\u001b[0m\n\u001b[1;32m      1\u001b[0m \u001b[0;31m# plot bg\u001b[0m\u001b[0;34m\u001b[0m\u001b[0;34m\u001b[0m\u001b[0;34m\u001b[0m\u001b[0m\n\u001b[0;32m----> 2\u001b[0;31m \u001b[0msns\u001b[0m\u001b[0;34m.\u001b[0m\u001b[0mset_style\u001b[0m\u001b[0;34m(\u001b[0m\u001b[0;34m\"whitegrid\"\u001b[0m\u001b[0;34m)\u001b[0m\u001b[0;34m\u001b[0m\u001b[0;34m\u001b[0m\u001b[0m\n\u001b[0m\u001b[1;32m      3\u001b[0m \u001b[0;34m\u001b[0m\u001b[0m\n\u001b[1;32m      4\u001b[0m \u001b[0;31m#Size of the plot\u001b[0m\u001b[0;34m\u001b[0m\u001b[0;34m\u001b[0m\u001b[0;34m\u001b[0m\u001b[0m\n\u001b[1;32m      5\u001b[0m \u001b[0mx\u001b[0m \u001b[0;34m=\u001b[0m \u001b[0mdf\u001b[0m\u001b[0;34m[\u001b[0m\u001b[0;34m'CocoaPercentage'\u001b[0m\u001b[0;34m]\u001b[0m\u001b[0;34m\u001b[0m\u001b[0;34m\u001b[0m\u001b[0m\n",
      "\u001b[0;31mNameError\u001b[0m: name 'sns' is not defined"
     ]
    }
   ],
   "metadata": {}
  },
  {
   "cell_type": "markdown",
   "source": [
    "From the plot above one can say that people mostly likes choclate with a coca percentage between ~60% to ~85%"
   ],
   "metadata": {}
  },
  {
   "cell_type": "code",
   "execution_count": 114,
   "source": [
    "plt.clf()\n",
    "plt.subplots(figsize=(15, 9))\n",
    "z = np.polyfit(df.CocoaPercentage, df.Ratings, 1)\n",
    "line_function = np.poly1d(z)\n",
    "plt.plot(df.CocoaPercentage, line_function(df.CocoaPercentage), \"r--\", color='#87CEE')\n",
    "# Title of the graph\n",
    "plt.title('Ratings vs. Cocoa Percentage', size = 20)\n",
    "# Horizontal axis Label\n",
    "plt.xlabel('Cocoa percentage', size = 17)\n",
    "# Vertical axis Label\n",
    "plt.ylabel('Ratings', size = 17)"
   ],
   "outputs": [
    {
     "output_type": "execute_result",
     "data": {
      "text/plain": [
       "Text(0, 0.5, 'Ratings')"
      ]
     },
     "metadata": {},
     "execution_count": 114
    },
    {
     "output_type": "display_data",
     "data": {
      "text/plain": [
       "<Figure size 432x288 with 0 Axes>"
      ]
     },
     "metadata": {}
    },
    {
     "output_type": "display_data",
     "data": {
      "text/plain": [
       "<Figure size 1080x648 with 1 Axes>"
      ],
      "image/png": "[encoded data removed]"
     },
     "metadata": {}
    }
   ],
   "metadata": {}
  },
  {
   "cell_type": "markdown",
   "source": [
    "Here is a regression model of the scatter plot above. From this one can see that the lower the cocoa percentage is, the higher the rating is. \n"
   ],
   "metadata": {}
  },
  {
   "cell_type": "markdown",
   "source": [
    "## Countries which produces the highest-rated bars"
   ],
   "metadata": {}
  },
  {
   "cell_type": "code",
   "execution_count": 140,
   "source": [
    "avg_rating_df = df.groupby(by='CompanyLocation').Ratings.mean()\n",
    "avg_rating_df.nlargest(10)"
   ],
   "outputs": [
    {
     "output_type": "execute_result",
     "data": {
      "text/plain": [
       "CompanyLocation\n",
       "Chile          3.750000\n",
       "Amsterdam      3.500000\n",
       "Netherlands    3.500000\n",
       "Philippines    3.500000\n",
       "Iceland        3.416667\n",
       "Vietnam        3.409091\n",
       "Brazil         3.397059\n",
       "Poland         3.375000\n",
       "Australia      3.357143\n",
       "Guatemala      3.350000\n",
       "Name: Ratings, dtype: float64"
      ]
     },
     "metadata": {},
     "execution_count": 140
    }
   ],
   "metadata": {}
  },
  {
   "cell_type": "markdown",
   "source": [
    "Chile produces the highest-rated cocoa beans."
   ],
   "metadata": {}
  }
 ],
 "metadata": {
  "orig_nbformat": 4,
  "language_info": {
   "name": "python",
   "version": "3.8.5",
   "mimetype": "text/x-python",
   "codemirror_mode": {
    "name": "ipython",
    "version": 3
   },
   "pygments_lexer": "ipython3",
   "nbconvert_exporter": "python",
   "file_extension": ".py"
  },
  "kernelspec": {
   "name": "python3",
   "display_name": "Python 3.8.5 64-bit"
  },
  "interpreter": {
   "hash": "0adcc2737ebf6a4a119f135174df96668767fca1ef1112612db5ecadf2b6d608"
  }
 },
 "nbformat": 4,
 "nbformat_minor": 2
}